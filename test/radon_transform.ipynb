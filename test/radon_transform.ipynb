{
 "cells": [
  {
   "cell_type": "code",
   "execution_count": 7,
   "metadata": {
    "collapsed": true
   },
   "outputs": [],
   "source": [
    "# -*- coding: utf-8 -*-\n",
    "\"\"\"\n",
    "Created on Wed Nov 22 10:25:23 2017\n",
    "\n",
    "@author: SRG\n",
    "\"\"\"\n",
    "\n",
    "import matplotlib.pyplot as plt\n",
    "\n",
    "from skimage.io import imread\n",
    "from skimage import data_dir\n",
    "from skimage.transform import radon, iradon\n",
    "from scipy.ndimage import zoom\n",
    "import os\n",
    "\n",
    "root = 'D:/git/avm_dataset/dataset/hyu_171025/rectified/set1/output/labeled/class_1'\n",
    "\n",
    "img_file = os.path.join(root, '00000963.jpg')\n",
    "image = imread(img_file, as_grey=True)\n",
    "\n",
    "plt.figure(figsize=(8, 8.5))\n",
    "\n",
    "plt.subplot(221)\n",
    "plt.title(\"Original\");\n",
    "plt.imshow(image, cmap=plt.cm.Greys_r)\n",
    "\n",
    "plt.subplot(222)\n",
    "projections = radon(image, theta=[75])\n",
    "plt.plot(projections);\n",
    "plt.title(\"Projections at 0, 45, and 90 degrees\")\n",
    "plt.xlabel(\"Projection position (pixels)\");\n",
    "plt.ylabel(\"Intensity\");\n",
    "\n",
    "projections = radon(image)\n",
    "plt.subplot(223)\n",
    "plt.title(\"Radon transform/n(Sinogram)\");\n",
    "plt.xlabel(\"Project angle (deg)\");\n",
    "plt.ylabel(\"Projection position (pixels)\");\n",
    "plt.imshow(projections)\n",
    "\n",
    "reconstruction = iradon(projections)\n",
    "plt.subplot(224)\n",
    "plt.title(\"Reconstruction/nfrom sinogram\")\n",
    "plt.imshow(reconstruction, cmap=plt.cm.Greys_r)\n",
    "\n",
    "plt.subplots_adjust(hspace=0.4, wspace=0.5)\n",
    "plt.show()"
   ]
  },
  {
   "cell_type": "code",
   "execution_count": 22,
   "metadata": {
    "collapsed": false
   },
   "outputs": [],
   "source": [
    "angle = [164, 165]\n",
    "plt.subplot(221)\n",
    "plt.title(\"Original\");\n",
    "plt.imshow(image, cmap=plt.cm.Greys_r)\n",
    "\n",
    "plt.subplot(222)\n",
    "projections = radon(image, theta=angle)\n",
    "plt.plot(projections);\n",
    "plt.title(\"Projections at specific degrees\")\n",
    "plt.xlabel(\"Projection position (pixels)\");\n",
    "plt.ylabel(\"Intensity\");\n",
    "\n",
    "plt.subplot(223)\n",
    "reconstruction = iradon(projections, theta=angle)\n",
    "plt.imshow(reconstruction[76:316,:], cmap=plt.cm.Greys_r)\n",
    "plt.show()"
   ]
  },
  {
   "cell_type": "code",
   "execution_count": 26,
   "metadata": {
    "collapsed": false
   },
   "outputs": [],
   "source": [
    "projections = radon(image)\n",
    "plt.subplot(111)\n",
    "plt.title(\"Radon transform/n(Sinogram)\");\n",
    "plt.xlabel(\"Project angle (deg)\");\n",
    "plt.ylabel(\"Projection position (pixels)\");\n",
    "plt.imshow(projections)\n",
    "plt.show()\n",
    "\n"
   ]
  },
  {
   "cell_type": "code",
   "execution_count": null,
   "metadata": {
    "collapsed": false
   },
   "outputs": [],
   "source": [
    "import matplotlib.pyplot as plt\n",
    "\n",
    "from skimage.io import imread\n",
    "from skimage import data_dir\n",
    "from skimage.transform import radon, iradon\n",
    "from scipy.ndimage import zoom\n",
    "import os\n",
    "import numpy as np\n",
    "import cv2\n",
    "\n",
    "root = 'D:/git/avm_dataset/dataset/hyu_171025/rectified/set2/output/labeled/class_1'\n",
    "\n",
    "img_file = os.path.join(root, '00000100.jpg')\n",
    "image = imread(img_file, as_grey=True)\n",
    "image = cv2.resize(image,None,fx=0.5,fy=0.5)\n",
    "\n",
    "projections = radon(image)\n",
    "off, ang = np.unravel_index(projections.argmax(), projections.shape)\n",
    "\n",
    "if ang > 90:\n",
    "    angle = [ang-90, ang]\n",
    "else:\n",
    "    angle = [ang, ang+90]\n",
    "    \n",
    "plt.subplot(131)\n",
    "plt.title(\"Original\");\n",
    "plt.imshow(image, cmap=plt.cm.Greys_r)\n",
    "\n",
    "plt.subplot(132)\n",
    "proj = radon(image, theta=angle)\n",
    "proj[:,0] = (proj[:,0] /proj[:,0].max())*255.0\n",
    "proj[:,1] = (proj[:,1] /proj[:,1].max())*255.0\n",
    "plt.plot(proj);\n",
    "plt.title(\"Projections at {} degrees\".format(ang))\n",
    "plt.xlabel(\"Projection position (pixels)\");\n",
    "plt.ylabel(\"Intensity\");\n",
    "\n",
    "plt.subplot(133)\n",
    "reconstruction = iradon(proj, theta=angle)\n",
    "reconstruction[reconstruction<0]=0\n",
    "#reconstruction /=reconstruction.max()\n",
    "#reconstruction *=255.0\n",
    "reconstruction = reconstruction[36:156,:]\n",
    "plt.imshow(reconstruction.astype(np.uint8), cmap=plt.cm.Greys_r)\n",
    "plt.show()"
   ]
  },
  {
   "cell_type": "code",
   "execution_count": 53,
   "metadata": {
    "collapsed": false,
    "scrolled": true
   },
   "outputs": [
    {
     "data": {
      "text/plain": [
       "(120, 196)"
      ]
     },
     "execution_count": 53,
     "metadata": {},
     "output_type": "execute_result"
    }
   ],
   "source": [
    "reconstruction.shape"
   ]
  },
  {
   "cell_type": "markdown",
   "metadata": {},
   "source": [
    "## Execution Time Measure"
   ]
  },
  {
   "cell_type": "code",
   "execution_count": 59,
   "metadata": {
    "collapsed": false,
    "scrolled": true
   },
   "outputs": [
    {
     "name": "stdout",
     "output_type": "stream",
     "text": [
      "1.5047073364257812 ms \n"
     ]
    }
   ],
   "source": [
    "import matplotlib.pyplot as plt\n",
    "\n",
    "from skimage.io import imread\n",
    "from skimage import data_dir\n",
    "from skimage.transform import radon, iradon\n",
    "from scipy.ndimage import zoom\n",
    "import os\n",
    "import numpy as np\n",
    "import time\n",
    "import cv2\n",
    "\n",
    "root = 'D:/git/avm_dataset/dataset/hyu_171025/rectified/set1/output/labeled/class_1'\n",
    "\n",
    "img_file = os.path.join(root, '00000950.jpg')\n",
    "image = imread(img_file, as_grey=True)\n",
    "image = cv2.resize(image,None,fx=0.5,fy=0.5)\n",
    "\n",
    "proj = radon(image)\n",
    "off, ang = np.unravel_index(proj.argmax(), proj.shape)\n",
    "\n",
    "if ang > 90:\n",
    "    angle = [ang-90, ang]\n",
    "else:\n",
    "    angle = [ang, ang+90]\n",
    "\n",
    "proj = radon(image, theta=angle)\n",
    "\n",
    "start_time = time.time()\n",
    "for i in range(10):\n",
    "    #proj = radon(image, theta=angle) \n",
    "    reconstruction = iradon(proj, theta=angle)\n",
    "print(\"{} ms \".format((time.time() - start_time)/10 * 1000))"
   ]
  },
  {
   "cell_type": "code",
   "execution_count": 7,
   "metadata": {
    "collapsed": false
   },
   "outputs": [
    {
     "data": {
      "text/plain": [
       "12.933333333333334"
      ]
     },
     "execution_count": 7,
     "metadata": {},
     "output_type": "execute_result"
    }
   ],
   "source": [
    "2328/180"
   ]
  },
  {
   "cell_type": "code",
   "execution_count": 60,
   "metadata": {
    "collapsed": false,
    "scrolled": false
   },
   "outputs": [
    {
     "name": "stderr",
     "output_type": "stream",
     "text": [
      "100%|████████████████████████████████████████████████████████████████████████████████| 130/130 [01:21<00:00,  1.60it/s]\n",
      " 74%|███████████████████████████████████████████████████████████▏                    | 114/154 [01:13<00:25,  1.55it/s]"
     ]
    },
    {
     "ename": "KeyboardInterrupt",
     "evalue": "",
     "output_type": "error",
     "traceback": [
      "\u001b[1;31m---------------------------------------------------------------------------\u001b[0m",
      "\u001b[1;31mKeyboardInterrupt\u001b[0m                         Traceback (most recent call last)",
      "\u001b[1;32m<ipython-input-60-f65bf9cadf59>\u001b[0m in \u001b[0;36m<module>\u001b[1;34m()\u001b[0m\n\u001b[0;32m     31\u001b[0m         \u001b[0mimage\u001b[0m \u001b[1;33m=\u001b[0m \u001b[0mcv2\u001b[0m\u001b[1;33m.\u001b[0m\u001b[0mresize\u001b[0m\u001b[1;33m(\u001b[0m\u001b[0mimage\u001b[0m\u001b[1;33m,\u001b[0m\u001b[1;32mNone\u001b[0m\u001b[1;33m,\u001b[0m\u001b[0mfx\u001b[0m\u001b[1;33m=\u001b[0m\u001b[0mRESIZE_RATIO\u001b[0m\u001b[1;33m,\u001b[0m\u001b[0mfy\u001b[0m\u001b[1;33m=\u001b[0m\u001b[0mRESIZE_RATIO\u001b[0m\u001b[1;33m)\u001b[0m\u001b[1;33m\u001b[0m\u001b[0m\n\u001b[0;32m     32\u001b[0m \u001b[1;33m\u001b[0m\u001b[0m\n\u001b[1;32m---> 33\u001b[1;33m         \u001b[0mprojections\u001b[0m \u001b[1;33m=\u001b[0m \u001b[0mradon\u001b[0m\u001b[1;33m(\u001b[0m\u001b[0mimage\u001b[0m\u001b[1;33m)\u001b[0m\u001b[1;33m\u001b[0m\u001b[0m\n\u001b[0m\u001b[0;32m     34\u001b[0m         \u001b[0moff\u001b[0m\u001b[1;33m,\u001b[0m \u001b[0mang\u001b[0m \u001b[1;33m=\u001b[0m \u001b[0mnp\u001b[0m\u001b[1;33m.\u001b[0m\u001b[0munravel_index\u001b[0m\u001b[1;33m(\u001b[0m\u001b[0mprojections\u001b[0m\u001b[1;33m.\u001b[0m\u001b[0margmax\u001b[0m\u001b[1;33m(\u001b[0m\u001b[1;33m)\u001b[0m\u001b[1;33m,\u001b[0m \u001b[0mprojections\u001b[0m\u001b[1;33m.\u001b[0m\u001b[0mshape\u001b[0m\u001b[1;33m)\u001b[0m\u001b[1;33m\u001b[0m\u001b[0m\n\u001b[0;32m     35\u001b[0m         \u001b[0mmax_ang\u001b[0m\u001b[1;33m.\u001b[0m\u001b[0mappend\u001b[0m\u001b[1;33m(\u001b[0m\u001b[0mang\u001b[0m\u001b[1;33m)\u001b[0m\u001b[1;33m\u001b[0m\u001b[0m\n",
      "\u001b[1;32mC:\\Anaconda3\\lib\\site-packages\\skimage\\transform\\radon_transform.py\u001b[0m in \u001b[0;36mradon\u001b[1;34m(image, theta, circle)\u001b[0m\n\u001b[0;32m    107\u001b[0m \u001b[1;33m\u001b[0m\u001b[0m\n\u001b[0;32m    108\u001b[0m     \u001b[1;32mfor\u001b[0m \u001b[0mi\u001b[0m \u001b[1;32min\u001b[0m \u001b[0mrange\u001b[0m\u001b[1;33m(\u001b[0m\u001b[0mlen\u001b[0m\u001b[1;33m(\u001b[0m\u001b[0mtheta\u001b[0m\u001b[1;33m)\u001b[0m\u001b[1;33m)\u001b[0m\u001b[1;33m:\u001b[0m\u001b[1;33m\u001b[0m\u001b[0m\n\u001b[1;32m--> 109\u001b[1;33m         \u001b[0mrotated\u001b[0m \u001b[1;33m=\u001b[0m \u001b[0m_warp_fast\u001b[0m\u001b[1;33m(\u001b[0m\u001b[0mpadded_image\u001b[0m\u001b[1;33m,\u001b[0m \u001b[0mbuild_rotation\u001b[0m\u001b[1;33m(\u001b[0m\u001b[0mtheta\u001b[0m\u001b[1;33m[\u001b[0m\u001b[0mi\u001b[0m\u001b[1;33m]\u001b[0m\u001b[1;33m)\u001b[0m\u001b[1;33m)\u001b[0m\u001b[1;33m\u001b[0m\u001b[0m\n\u001b[0m\u001b[0;32m    110\u001b[0m         \u001b[0mradon_image\u001b[0m\u001b[1;33m[\u001b[0m\u001b[1;33m:\u001b[0m\u001b[1;33m,\u001b[0m \u001b[0mi\u001b[0m\u001b[1;33m]\u001b[0m \u001b[1;33m=\u001b[0m \u001b[0mrotated\u001b[0m\u001b[1;33m.\u001b[0m\u001b[0msum\u001b[0m\u001b[1;33m(\u001b[0m\u001b[1;36m0\u001b[0m\u001b[1;33m)\u001b[0m\u001b[1;33m\u001b[0m\u001b[0m\n\u001b[0;32m    111\u001b[0m     \u001b[1;32mreturn\u001b[0m \u001b[0mradon_image\u001b[0m\u001b[1;33m\u001b[0m\u001b[0m\n",
      "\u001b[1;32mskimage/transform/_warps_cy.pyx\u001b[0m in \u001b[0;36mskimage.transform._warps_cy._warp_fast (skimage\\transform\\_warps_cy.c:2637)\u001b[1;34m()\u001b[0m\n",
      "\u001b[1;32mC:\\Anaconda3\\lib\\site-packages\\numpy\\core\\numeric.py\u001b[0m in \u001b[0;36masarray\u001b[1;34m(a, dtype, order)\u001b[0m\n\u001b[0;32m    412\u001b[0m \u001b[1;33m\u001b[0m\u001b[0m\n\u001b[0;32m    413\u001b[0m \u001b[1;33m\u001b[0m\u001b[0m\n\u001b[1;32m--> 414\u001b[1;33m \u001b[1;32mdef\u001b[0m \u001b[0masarray\u001b[0m\u001b[1;33m(\u001b[0m\u001b[0ma\u001b[0m\u001b[1;33m,\u001b[0m \u001b[0mdtype\u001b[0m\u001b[1;33m=\u001b[0m\u001b[1;32mNone\u001b[0m\u001b[1;33m,\u001b[0m \u001b[0morder\u001b[0m\u001b[1;33m=\u001b[0m\u001b[1;32mNone\u001b[0m\u001b[1;33m)\u001b[0m\u001b[1;33m:\u001b[0m\u001b[1;33m\u001b[0m\u001b[0m\n\u001b[0m\u001b[0;32m    415\u001b[0m     \"\"\"Convert the input to an array.\n\u001b[0;32m    416\u001b[0m \u001b[1;33m\u001b[0m\u001b[0m\n",
      "\u001b[1;31mKeyboardInterrupt\u001b[0m: "
     ]
    }
   ],
   "source": [
    "import matplotlib.pyplot as plt\n",
    "\n",
    "from skimage.io import imread, imsave\n",
    "from skimage import data_dir\n",
    "from skimage.transform import radon, iradon\n",
    "from scipy.ndimage import zoom\n",
    "import os\n",
    "import numpy as np\n",
    "from tqdm import tqdm\n",
    "import cv2\n",
    "\n",
    "RESIZE_RATIO = 0.5\n",
    "\n",
    "for f in range(1,9):\n",
    "    root = 'D:/git/avm_dataset/dataset/hyu_171025/rectified/set{}/output/labeled/class_1'.format(f)\n",
    "    output_folder = 'D:/git/avm_dataset/dataset/hyu_171025/rectified/set{}/output/labeled/class_1/radon_resize_0_5'.format(f)\n",
    "    if os.path.isdir(output_folder)==False:\n",
    "        os.mkdir(output_folder)\n",
    "\n",
    "    max_ang = []\n",
    "    file_list = []\n",
    "    for file in os.listdir(root):\n",
    "        if len(file.split('.')) != 2:\n",
    "            continue\n",
    "        file_list.append(file)\n",
    "    \n",
    "    \n",
    "    for i in tqdm(range(0,len(file_list),10)):\n",
    "        img_file = os.path.join(root, file_list[i])\n",
    "        image = imread(img_file, as_grey=True)\n",
    "        image = cv2.resize(image,None,fx=RESIZE_RATIO,fy=RESIZE_RATIO)\n",
    "        \n",
    "        projections = radon(image)\n",
    "        off, ang = np.unravel_index(projections.argmax(), projections.shape)\n",
    "        max_ang.append(ang)\n",
    "\n",
    "        if ang > 90:\n",
    "            angle = [ang-90, ang]\n",
    "        else:\n",
    "            angle = [ang, ang+90]\n",
    "\n",
    "        proj = radon(image, theta=angle)\n",
    "        reconstruction = iradon(proj, theta=angle)\n",
    "\n",
    "        reconstruction[reconstruction<0]=0\n",
    "        reconstruction[:,0] /=reconstruction[:,0].max()\n",
    "        reconstruction[:,0] *=255.0\n",
    "        reconstruction[:,1] /=reconstruction[:,1].max()\n",
    "        reconstruction[:,1] *=255.0\n",
    "\n",
    "        output_file = os.path.join(output_folder, file_list[i])\n",
    "\n",
    "        imsave(output_file, reconstruction.astype(np.uint8))\n",
    "\n",
    "    fig, ax = plt.subplots()\n",
    "    plt.plot(max_ang, '.--')\n",
    "    plt.title('Randon Transform based Principle Angle Detection')\n",
    "    plt.xlabel(\"frame\");\n",
    "    plt.ylabel(\"max angle [deg]\");\n",
    "    ax.grid(True)\n",
    "    fig.savefig(os.path.join(output_folder,'max_angle.png'), bbox_inches='tight')"
   ]
  }
 ],
 "metadata": {
  "kernelspec": {
   "display_name": "Python [Root]",
   "language": "python",
   "name": "Python [Root]"
  },
  "language_info": {
   "codemirror_mode": {
    "name": "ipython",
    "version": 3
   },
   "file_extension": ".py",
   "mimetype": "text/x-python",
   "name": "python",
   "nbconvert_exporter": "python",
   "pygments_lexer": "ipython3",
   "version": "3.5.2"
  }
 },
 "nbformat": 4,
 "nbformat_minor": 0
}
