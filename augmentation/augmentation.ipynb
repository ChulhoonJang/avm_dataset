{
 "cells": [
  {
   "cell_type": "code",
   "execution_count": 9,
   "metadata": {},
   "outputs": [],
   "source": [
    "# rotation and flipping 을 하기 위한 sample code\n",
    "import cv2\n",
    "\n",
    "img_file = 'D:/git/avm_dataset/ss_dataset_example/gt.png'\n",
    "\n",
    "# read an image\n",
    "img = cv2.imread(img_file)\n",
    "\n",
    "# rotation\n",
    "rows,cols = img.shape[0:2]\n",
    "ang = 45\n",
    "\n",
    "M = cv2.getRotationMatrix2D((cols/2,rows/2),ang,1)\n",
    "dst = cv2.warpAffine(img,M,(cols,rows))\n",
    "\n",
    "# flip\n",
    "# - vertical\n",
    "dst_v = cv2.flip(dst, 0)\n",
    "# - horizontal\n",
    "dst_h = cv2.flip(dst, 1)\n",
    "# - horizontal, vertical\n",
    "dst_hv = cv2.flip(dst, -1)\n",
    "\n",
    "cv2.imshow('dst', dst)\n",
    "cv2.imshow('dst_v', dst_v)\n",
    "cv2.imshow('dst_h', dst_h)\n",
    "cv2.imshow('dst_hv', dst_hv)\n",
    "cv2.waitKey()\n",
    "cv2.destroyAllWindows()\n",
    "# save\n"
   ]
  },
  {
   "cell_type": "code",
   "execution_count": 5,
   "metadata": {},
   "outputs": [
    {
     "name": "stderr",
     "output_type": "stream",
     "text": [
      "100%|██████████████████████████████████████| 1603/1603 [01:25<00:00, 18.80it/s]\n"
     ]
    }
   ],
   "source": [
    "import os\n",
    "import cv2\n",
    "from tqdm import tqdm\n",
    "\n",
    "root = 'D:/git/avm_dataset/dataset/AVM6414_augmented/test/gt'\n",
    "\n",
    "# get file list\n",
    "file_list = os.listdir(root)\n",
    "\n",
    "for i in tqdm(range(len(file_list))):\n",
    "    file = file_list[i]    \n",
    "    # read an image\n",
    "    img = cv2.imread(os.path.join(root,file))\n",
    "\n",
    "    # rotation\n",
    "    rows,cols = img.shape[0:2]\n",
    "    for ang in range(10, 90, 10):     \n",
    "        M = cv2.getRotationMatrix2D((cols/2,rows/2),ang,1)\n",
    "        rot = cv2.warpAffine(img, M, (cols,rows))\n",
    "\n",
    "        # flip\n",
    "        # - vertical\n",
    "        rot_v = cv2.flip(rot, 0)\n",
    "        # - horizontal\n",
    "        rot_h = cv2.flip(rot, 1)\n",
    "        # - horizontal, vertical\n",
    "        rot_hv = cv2.flip(rot, -1)\n",
    "        \n",
    "        # save image\n",
    "        save_name = \"{}_r{}.{}\".format(file.split('.')[0], ang, file.split('.')[1])\n",
    "        cv2.imwrite(os.path.join(root,save_name), rot)\n",
    "        save_name = \"{}_r{}_h.{}\".format(file.split('.')[0], ang, file.split('.')[1])\n",
    "        cv2.imwrite(os.path.join(root,save_name), rot_h)\n",
    "        save_name = \"{}_r{}_v.{}\".format(file.split('.')[0], ang, file.split('.')[1])\n",
    "        cv2.imwrite(os.path.join(root,save_name), rot_v)\n",
    "        save_name = \"{}_r{}_hv.{}\".format(file.split('.')[0], ang, file.split('.')[1])\n",
    "        cv2.imwrite(os.path.join(root,save_name), rot_hv)"
   ]
  }
 ],
 "metadata": {
  "kernelspec": {
   "display_name": "Python 3",
   "language": "python",
   "name": "python3"
  },
  "language_info": {
   "codemirror_mode": {
    "name": "ipython",
    "version": 3
   },
   "file_extension": ".py",
   "mimetype": "text/x-python",
   "name": "python",
   "nbconvert_exporter": "python",
   "pygments_lexer": "ipython3",
   "version": "3.5.3"
  }
 },
 "nbformat": 4,
 "nbformat_minor": 2
}
