{
 "cells": [
  {
   "cell_type": "code",
   "execution_count": 8,
   "metadata": {},
   "outputs": [],
   "source": [
    "# text file generation for db list\n",
    "import os\n",
    "\n",
    "root = 'D:/git/avm_dataset/dataset/AVM6414_augmented/test'\n",
    "\n",
    "img_files = os.listdir(os.path.join(root,'images'))\n",
    "gt_files = os.listdir(os.path.join(root,'gt'))\n",
    "\n",
    "f = open(os.path.join(root,'db_list.txt'), 'w')\n",
    "for img_file in img_files:\n",
    "    f_name = img_file.split('.')[0] + '.png'\n",
    "    if os.path.isfile(os.path.join(root,'gt',f_name)):   \n",
    "        w = '{}/images/{} {}/gt/{}\\n'.format(root.split('/')[-1], img_file, root.split('/')[-1], f_name)\n",
    "        f.write(w)\n",
    "    else:\n",
    "        print('{} file is missing'.format(img_file))\n",
    "\n",
    "f.close()\n",
    "    "
   ]
  }
 ],
 "metadata": {
  "kernelspec": {
   "display_name": "Python 3",
   "language": "python",
   "name": "python3"
  },
  "language_info": {
   "codemirror_mode": {
    "name": "ipython",
    "version": 3
   },
   "file_extension": ".py",
   "mimetype": "text/x-python",
   "name": "python",
   "nbconvert_exporter": "python",
   "pygments_lexer": "ipython3",
   "version": "3.5.3"
  }
 },
 "nbformat": 4,
 "nbformat_minor": 2
}
