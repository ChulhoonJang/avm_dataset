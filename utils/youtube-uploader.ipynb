{
 "cells": [
  {
   "cell_type": "code",
   "execution_count": 2,
   "metadata": {
    "collapsed": true
   },
   "outputs": [],
   "source": [
    "import os\n",
    "import sys\n",
    "\n",
    "\n",
    "for f in range(1,2):\n",
    "    video_path = \"E:/Logging/PRJ_AP/20171025_HYU/export/set{}/output/overlay/video.avi\".format(f)\n",
    "\n",
    "    title = \"Semenatic Sementation for AVM - Model: model_171012, DB: hyu_171026, Set: set{}\".format(f)\n",
    "    description = \"Scene Understanding based on Sementic Segmentation\"\n",
    "    \n",
    "    \n",
    "    if os.path.isfile(video_path) == True:\n",
    "        #os.system()\n",
    "        cmd = 'python upload_video.py --file=\"{}\" --title=\"{}\" --description=\"{}\" --privacyStatus=unlisted'.format(video_path, title, description)\n",
    "        os.system(cmd)\n",
    "        #print(cmd)\n",
    "        #print('{} is uploaded'.format(video_path)\n",
    "    else:\n",
    "        print('no file')\n",
    "        "
   ]
  }
 ],
 "metadata": {
  "anaconda-cloud": {},
  "kernelspec": {
   "display_name": "Python [Root]",
   "language": "python",
   "name": "Python [Root]"
  },
  "language_info": {
   "codemirror_mode": {
    "name": "ipython",
    "version": 3
   },
   "file_extension": ".py",
   "mimetype": "text/x-python",
   "name": "python",
   "nbconvert_exporter": "python",
   "pygments_lexer": "ipython3",
   "version": "3.5.2"
  }
 },
 "nbformat": 4,
 "nbformat_minor": 0
}
