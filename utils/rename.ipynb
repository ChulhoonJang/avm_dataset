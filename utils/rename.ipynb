{
 "cells": [
  {
   "cell_type": "code",
   "execution_count": 5,
   "metadata": {
    "collapsed": false
   },
   "outputs": [
    {
     "name": "stderr",
     "output_type": "stream",
     "text": [
      "100%|█████████████████████████████████████████████████████████████████████████████| 1129/1129 [00:01<00:00, 591.33it/s]\n"
     ]
    }
   ],
   "source": [
    "# date: 17/11/16\n",
    "# author: chulhoon (chulhoonjang@gmail.com)\n",
    "import os\n",
    "from tqdm import tqdm\n",
    "\n",
    "TARGET_DIR = 'E:/Logging/PRJ_AP/20171025_HYU/export/set8/output/overlay'\n",
    "\n",
    "files = os.listdir(TARGET_DIR)\n",
    "for i in tqdm(range(len(files))):\n",
    "    file = files[i]\n",
    "    if len(file.split('.')) != 2:\n",
    "        continue\n",
    "    if file.split('.')[1] != 'png':\n",
    "        print(file + ' is skipped')\n",
    "        continue\n",
    "\n",
    "    # rename\n",
    "    src = os.path.join(TARGET_DIR, file)\n",
    "    \n",
    "    new_name = '{:08d}.png'.format(int(file.split('_')[-2]))\n",
    "    dst = os.path.join(TARGET_DIR, new_name)\n",
    "    \n",
    "    os.rename(src,dst)"
   ]
  }
 ],
 "metadata": {
  "anaconda-cloud": {},
  "kernelspec": {
   "display_name": "Python [Root]",
   "language": "python",
   "name": "Python [Root]"
  },
  "language_info": {
   "codemirror_mode": {
    "name": "ipython",
    "version": 3
   },
   "file_extension": ".py",
   "mimetype": "text/x-python",
   "name": "python",
   "nbconvert_exporter": "python",
   "pygments_lexer": "ipython3",
   "version": "3.5.2"
  }
 },
 "nbformat": 4,
 "nbformat_minor": 0
}
