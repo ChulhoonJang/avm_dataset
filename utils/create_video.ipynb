{
 "cells": [
  {
   "cell_type": "code",
   "execution_count": 4,
   "metadata": {
    "collapsed": false
   },
   "outputs": [
    {
     "name": "stderr",
     "output_type": "stream",
     "text": [
      "100%|█████████████████████████████████████████████████████████████████████████████| 1300/1300 [00:03<00:00, 348.26it/s]\n"
     ]
    }
   ],
   "source": [
    "# date: 17/11/16\n",
    "# author: chulhoon (chulhoonjang@gmail.com)\n",
    "\n",
    "# for single folder\n",
    "import cv2\n",
    "import os\n",
    "from tqdm import tqdm\n",
    "\n",
    "IMG_DIR = 'E:/Logging/PRJ_AP/20171025_HYU/export/set1/output/overlay'\n",
    "VIDEO_NAME = 'video.avi'\n",
    "\n",
    "images = [img for img in os.listdir(IMG_DIR) if img.endswith(\".png\")]\n",
    "frame = cv2.imread(os.path.join(IMG_DIR, images[0]))\n",
    "height, width, layers = frame.shape\n",
    "\n",
    "fourcc = cv2.VideoWriter_fourcc(*'MJPG')\n",
    "video = cv2.VideoWriter(os.path.join(IMG_DIR,VIDEO_NAME), fourcc, 20.0, (width,height))\n",
    "\n",
    "for i in tqdm(range(len(images))):\n",
    "    image = images[i]\n",
    "    video.write(cv2.imread(os.path.join(IMG_DIR, image)))\n",
    "    #cv2.imshow('img',cv2.imread(os.path.join(IMG_DIR, image)))\n",
    "    cv2.waitKey(1)\n",
    "\n",
    "cv2.destroyAllWindows()\n",
    "video.release()"
   ]
  },
  {
   "cell_type": "code",
   "execution_count": 1,
   "metadata": {
    "collapsed": false
   },
   "outputs": [
    {
     "name": "stderr",
     "output_type": "stream",
     "text": [
      "100%|█████████████████████████████████████████████████████████████████████████████| 1300/1300 [00:03<00:00, 339.83it/s]\n",
      "100%|█████████████████████████████████████████████████████████████████████████████| 1531/1531 [00:04<00:00, 306.58it/s]\n",
      "100%|█████████████████████████████████████████████████████████████████████████████| 1300/1300 [00:04<00:00, 315.54it/s]\n",
      "100%|█████████████████████████████████████████████████████████████████████████████| 1151/1151 [00:03<00:00, 309.32it/s]\n",
      "100%|█████████████████████████████████████████████████████████████████████████████| 1429/1429 [00:04<00:00, 317.44it/s]\n",
      "100%|█████████████████████████████████████████████████████████████████████████████| 1273/1273 [00:04<00:00, 316.42it/s]\n",
      "100%|█████████████████████████████████████████████████████████████████████████████| 1345/1345 [00:04<00:00, 316.29it/s]\n",
      "100%|█████████████████████████████████████████████████████████████████████████████| 1129/1129 [00:03<00:00, 301.71it/s]\n"
     ]
    }
   ],
   "source": [
    "# date: 17/11/16\n",
    "# author: chulhoon (chulhoonjang@gmail.com)\n",
    "\n",
    "# multiple folder\n",
    "import cv2\n",
    "import os\n",
    "from tqdm import tqdm\n",
    "\n",
    "\n",
    "for f in range(1,9):    \n",
    "    IMG_DIR = 'E:/Logging/PRJ_AP/20171025_HYU/export/rectified/set{}'.format(f)\n",
    "    VIDEO_NAME = 'video.avi'\n",
    "\n",
    "    images = [img for img in os.listdir(IMG_DIR) if img.endswith(\".jpg\")]\n",
    "    frame = cv2.imread(os.path.join(IMG_DIR, images[0]))\n",
    "    height, width, layers = frame.shape\n",
    "\n",
    "    fourcc = cv2.VideoWriter_fourcc(*'MJPG')\n",
    "    video = cv2.VideoWriter(os.path.join(IMG_DIR,VIDEO_NAME), fourcc, 20.0, (width,height))\n",
    "\n",
    "    for i in tqdm(range(len(images))):\n",
    "        image = images[i]\n",
    "        video.write(cv2.imread(os.path.join(IMG_DIR, image)))\n",
    "        #cv2.imshow('img',cv2.imread(os.path.join(IMG_DIR, image)))\n",
    "        cv2.waitKey(1)\n",
    "\n",
    "    cv2.destroyAllWindows()\n",
    "    video.release()"
   ]
  }
 ],
 "metadata": {
  "anaconda-cloud": {},
  "kernelspec": {
   "display_name": "Python [Root]",
   "language": "python",
   "name": "Python [Root]"
  },
  "language_info": {
   "codemirror_mode": {
    "name": "ipython",
    "version": 3
   },
   "file_extension": ".py",
   "mimetype": "text/x-python",
   "name": "python",
   "nbconvert_exporter": "python",
   "pygments_lexer": "ipython3",
   "version": "3.5.2"
  }
 },
 "nbformat": 4,
 "nbformat_minor": 0
}
